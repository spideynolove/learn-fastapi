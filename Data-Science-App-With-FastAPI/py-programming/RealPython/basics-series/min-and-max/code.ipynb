{
 "cells": [
  {
   "cell_type": "code",
   "execution_count": 2,
   "metadata": {},
   "outputs": [
    {
     "data": {
      "text/plain": [
       "(-5, 9)"
      ]
     },
     "execution_count": 2,
     "metadata": {},
     "output_type": "execute_result"
    }
   ],
   "source": [
    "min([3, 5, 9, 1, -5]), max([3, 5, 9, 1, -5])"
   ]
  },
  {
   "cell_type": "code",
   "execution_count": 3,
   "metadata": {},
   "outputs": [
    {
     "data": {
      "text/plain": [
       "(-5, 9)"
      ]
     },
     "execution_count": 3,
     "metadata": {},
     "output_type": "execute_result"
    }
   ],
   "source": [
    "min([3, 5.0, 9, 1.0, -5]), max([3, 5.0, 9, 1.0, -5])"
   ]
  },
  {
   "cell_type": "code",
   "execution_count": 5,
   "metadata": {},
   "outputs": [
    {
     "data": {
      "text/plain": [
       "('a', 'z')"
      ]
     },
     "execution_count": 5,
     "metadata": {},
     "output_type": "execute_result"
    }
   ],
   "source": [
    "min(\"abcdefghijklmnopqrstuvwxyz\"), max(\"abcdefghijklmnopqrstuvwxyz\")"
   ]
  },
  {
   "cell_type": "code",
   "execution_count": 7,
   "metadata": {},
   "outputs": [
    {
     "data": {
      "text/plain": [
       "(97, 65, 'A')"
      ]
     },
     "execution_count": 7,
     "metadata": {},
     "output_type": "execute_result"
    }
   ],
   "source": [
    "ord(\"a\"), ord(\"A\"), min(\"aA\")"
   ]
  },
  {
   "cell_type": "code",
   "execution_count": 8,
   "metadata": {},
   "outputs": [
    {
     "data": {
      "text/plain": [
       "('Hello', 'world')"
      ]
     },
     "execution_count": 8,
     "metadata": {},
     "output_type": "execute_result"
    }
   ],
   "source": [
    "min([\"Hello\", \"Pythonista\", \"and\", \"welcome\", \"world\"]), max([\"Hello\", \"Pythonista\", \"and\", \"welcome\", \"world\"])"
   ]
  },
  {
   "cell_type": "code",
   "execution_count": 12,
   "metadata": {},
   "outputs": [
    {
     "data": {
      "text/plain": [
       "('apple', 'pineapple', 0.89, 2.45, ('apple', 1.57), ('pineapple', 0.89))"
      ]
     },
     "execution_count": 12,
     "metadata": {},
     "output_type": "execute_result"
    }
   ],
   "source": [
    "prices = {\n",
    "    \"banana\": 1.20,\n",
    "    \"pineapple\": 0.89,\n",
    "    \"apple\": 1.57,\n",
    "    \"grape\": 2.45,\n",
    "}\n",
    "min(prices), max(prices), min(prices.values()), max(prices.values()), min(prices.items()), max(prices.items())"
   ]
  },
  {
   "cell_type": "code",
   "execution_count": 14,
   "metadata": {},
   "outputs": [
    {
     "data": {
      "text/plain": [
       "('3', '35')"
      ]
     },
     "execution_count": 14,
     "metadata": {},
     "output_type": "execute_result"
    }
   ],
   "source": [
    "min([\"20\", \"3\", \"35\", \"7\"], key=int), max([\"20\", \"3\", \"35\", \"7\"], key=int)"
   ]
  },
  {
   "cell_type": "code",
   "execution_count": 15,
   "metadata": {},
   "outputs": [
    {
     "data": {
      "text/plain": [
       "42"
      ]
     },
     "execution_count": 15,
     "metadata": {},
     "output_type": "execute_result"
    }
   ],
   "source": [
    "min([], default=42)"
   ]
  },
  {
   "cell_type": "code",
   "execution_count": 16,
   "metadata": {},
   "outputs": [],
   "source": [
    "letters = [\"A\", \"B\", \"C\", \"X\", \"Y\", \"Z\"]"
   ]
  },
  {
   "cell_type": "code",
   "execution_count": 18,
   "metadata": {},
   "outputs": [
    {
     "data": {
      "text/plain": [
       "('A', 'a')"
      ]
     },
     "execution_count": 18,
     "metadata": {},
     "output_type": "execute_result"
    }
   ],
   "source": [
    "min(letters), min([letter.lower() for letter in letters])"
   ]
  },
  {
   "cell_type": "code",
   "execution_count": 20,
   "metadata": {},
   "outputs": [
    {
     "data": {
      "text/plain": [
       "[4, 5, 7, 6, 4, 42]"
      ]
     },
     "execution_count": 20,
     "metadata": {},
     "output_type": "execute_result"
    }
   ],
   "source": [
    "sample = [4, 5, 7, 6, -12, 4, 42]\n",
    "sample.remove(min(sample))\n",
    "sample"
   ]
  },
  {
   "cell_type": "code",
   "execution_count": 21,
   "metadata": {},
   "outputs": [
    {
     "data": {
      "text/plain": [
       "[1, 4, 7]"
      ]
     },
     "execution_count": 21,
     "metadata": {},
     "output_type": "execute_result"
    }
   ],
   "source": [
    "matrix = [[1, 2, 3], [4, 5, 6], [7, 8, 9]]\n",
    "[min(row) for row in matrix]"
   ]
  },
  {
   "cell_type": "code",
   "execution_count": 24,
   "metadata": {},
   "outputs": [],
   "source": [
    "lower, upper = 10, 100\n",
    "numbers = [42, 78, 200, -230, 25, 142]"
   ]
  },
  {
   "cell_type": "code",
   "execution_count": 25,
   "metadata": {},
   "outputs": [
    {
     "data": {
      "text/plain": [
       "[42, 78, 100, -230, 25, 100]"
      ]
     },
     "execution_count": 25,
     "metadata": {},
     "output_type": "execute_result"
    }
   ],
   "source": [
    "[min(number, upper) for number in numbers]  # add a threshold max"
   ]
  },
  {
   "cell_type": "code",
   "execution_count": 26,
   "metadata": {},
   "outputs": [
    {
     "data": {
      "text/plain": [
       "[42, 78, 200, 10, 25, 142]"
      ]
     },
     "execution_count": 26,
     "metadata": {},
     "output_type": "execute_result"
    }
   ],
   "source": [
    "[max(number, lower) for number in numbers]  # add a threshold min"
   ]
  },
  {
   "cell_type": "code",
   "execution_count": 27,
   "metadata": {},
   "outputs": [
    {
     "data": {
      "text/plain": [
       "[42, 78, 100, 10, 25, 100]"
      ]
     },
     "execution_count": 27,
     "metadata": {},
     "output_type": "execute_result"
    }
   ],
   "source": [
    "# Clipping values to 10 - 100\n",
    "[max(min(number, upper), lower) for number in numbers]"
   ]
  },
  {
   "cell_type": "code",
   "execution_count": 28,
   "metadata": {},
   "outputs": [
    {
     "data": {
      "text/plain": [
       "[42, 78, 100, 10, 25, 100]"
      ]
     },
     "execution_count": 28,
     "metadata": {},
     "output_type": "execute_result"
    }
   ],
   "source": [
    "[min(max(number, lower), upper) for number in numbers]"
   ]
  },
  {
   "cell_type": "code",
   "execution_count": 30,
   "metadata": {},
   "outputs": [],
   "source": [
    "import math\n",
    "point_pairs = [\n",
    "    ((12, 5), (9, 4)),\n",
    "    ((2, 5), (3, 7)),\n",
    "    ((4, 11), (15, 2))\n",
    "]\n",
    "# min(point_pairs, key=lambda points: math.dist(*points))"
   ]
  },
  {
   "cell_type": "code",
   "execution_count": 34,
   "metadata": {},
   "outputs": [
    {
     "data": {
      "text/plain": [
       "('pineapple', 0.89)"
      ]
     },
     "execution_count": 34,
     "metadata": {},
     "output_type": "execute_result"
    }
   ],
   "source": [
    "prices = {\n",
    "    \"banana\": 1.20,\n",
    "    \"pineapple\": 0.89,\n",
    "    \"apple\": 1.57,\n",
    "    \"grape\": 2.45,\n",
    "}\n",
    "min(prices.items(), key=lambda item: item[1])"
   ]
  },
  {
   "cell_type": "code",
   "execution_count": 35,
   "metadata": {},
   "outputs": [
    {
     "data": {
      "text/plain": [
       "0.03386830000090413"
      ]
     },
     "execution_count": 35,
     "metadata": {},
     "output_type": "execute_result"
    }
   ],
   "source": [
    "# evaluate algorithms execution\n",
    "import timeit\n",
    "min(\n",
    "    timeit.repeat(\n",
    "        stmt=\"[i ** 2 for i in range(100)]\",\n",
    "        number=1000,\n",
    "        repeat=3\n",
    "    )\n",
    ")"
   ]
  },
  {
   "cell_type": "code",
   "execution_count": 36,
   "metadata": {},
   "outputs": [
    {
     "data": {
      "text/plain": [
       "0.04220119999808958"
      ]
     },
     "execution_count": 36,
     "metadata": {},
     "output_type": "execute_result"
    }
   ],
   "source": [
    "min(\n",
    "    timeit.repeat(\n",
    "        stmt=\"list(map(lambda i: i ** 2, range(100)))\",\n",
    "        number=1000,\n",
    "        repeat=3\n",
    "    )\n",
    ")"
   ]
  },
  {
   "cell_type": "code",
   "execution_count": 37,
   "metadata": {},
   "outputs": [
    {
     "data": {
      "text/plain": [
       "True"
      ]
     },
     "execution_count": 37,
     "metadata": {},
     "output_type": "execute_result"
    }
   ],
   "source": [
    "\"__lt__\" in dir(int) and \"__gt__\" in dir(int)"
   ]
  },
  {
   "cell_type": "code",
   "execution_count": 38,
   "metadata": {},
   "outputs": [],
   "source": [
    "from datetime import date\n",
    "\n",
    "\n",
    "class Person:\n",
    "    def __init__(self, name, birth_date):\n",
    "        self.name = name\n",
    "        self.birth_date = date.fromisoformat(birth_date)\n",
    "\n",
    "    def __repr__(self):\n",
    "        return (\n",
    "            f\"{type(self).__name__}\"\n",
    "            f\"({self.name}, {self.birth_date.isoformat()})\"\n",
    "        )\n",
    "\n",
    "    def __lt__(self, other):\n",
    "        return self.birth_date > other.birth_date\n",
    "\n",
    "    def __gt__(self, other):\n",
    "        return self.birth_date < other.birth_date\n"
   ]
  },
  {
   "cell_type": "code",
   "execution_count": 40,
   "metadata": {},
   "outputs": [
    {
     "data": {
      "text/plain": [
       "(True, False)"
      ]
     },
     "execution_count": 40,
     "metadata": {},
     "output_type": "execute_result"
    }
   ],
   "source": [
    "jane = Person(\"Jane Doe\", \"2004-08-15\")\n",
    "john = Person(\"John Doe\", \"2001-02-07\")\n",
    "jane < john, jane > john"
   ]
  },
  {
   "cell_type": "code",
   "execution_count": 50,
   "metadata": {},
   "outputs": [],
   "source": [
    "class Number:\n",
    "    def __init__(self, value):\n",
    "        self.value = value\n",
    "\n",
    "    def __str__(self):\n",
    "        return str(self.value)\n",
    "\n",
    "    def __lt__(self, other):\n",
    "        return self.value > other.value\n",
    "\n",
    "    def __gt__(self, other):\n",
    "        return self.value < other.value\n",
    "\n",
    "\n",
    "x = Number(21)\n",
    "y = Number(42)\n"
   ]
  },
  {
   "cell_type": "code",
   "execution_count": 51,
   "metadata": {},
   "outputs": [
    {
     "data": {
      "text/plain": [
       "(<__main__.Number at 0x1fd31b95e08>, False, True)"
      ]
     },
     "execution_count": 51,
     "metadata": {},
     "output_type": "execute_result"
    }
   ],
   "source": [
    "min(x, y), x < y, x > y"
   ]
  },
  {
   "cell_type": "code",
   "execution_count": null,
   "metadata": {},
   "outputs": [],
   "source": [
    "from operator import gt, lt\n",
    "\n",
    "\n",
    "def min_max(*args, operator, key=None, default=None):\n",
    "    if len(args) == 1:\n",
    "        try:\n",
    "            values = list(args[0])  # Also check if the object is iterable\n",
    "        except TypeError:\n",
    "            raise TypeError(\n",
    "                f\"{type(args[0]).__name__} object is not iterable\"\n",
    "            ) from None\n",
    "    else:\n",
    "        values = args\n",
    "\n",
    "    if not values:\n",
    "        if default is None:\n",
    "            raise ValueError(\"args is an empty sequence\")\n",
    "        return default\n",
    "\n",
    "    if key is None:\n",
    "        keys = values\n",
    "    else:\n",
    "        if callable(key):\n",
    "            keys = [key(value) for value in values]\n",
    "        else:\n",
    "            raise TypeError(f\"{type(key).__name__} object is not a callable\")\n",
    "\n",
    "    extreme_key, extreme_value = keys[0], values[0]\n",
    "    for key, value in zip(keys[1:], values[1:]):\n",
    "        if operator(key, extreme_key):\n",
    "            extreme_key = key\n",
    "            extreme_value = value\n",
    "    return extreme_value\n",
    "\n",
    "\n",
    "def custom_min(*args, key=None, default=None):\n",
    "    return min_max(*args, operator=lt, key=key, default=default)\n",
    "\n",
    "\n",
    "def custom_max(*args, key=None, default=None):\n",
    "    return min_max(*args, operator=gt, key=key, default=default)\n"
   ]
  }
 ],
 "metadata": {
  "interpreter": {
   "hash": "2e2e0cbd88c3de5dbd3f272268dcbb7f0a1434fa62216741e0b3569d0ec472d4"
  },
  "kernelspec": {
   "display_name": "Python 3.7.9 ('python_cookbook-ceLsgb0S')",
   "language": "python",
   "name": "python3"
  },
  "language_info": {
   "codemirror_mode": {
    "name": "ipython",
    "version": 3
   },
   "file_extension": ".py",
   "mimetype": "text/x-python",
   "name": "python",
   "nbconvert_exporter": "python",
   "pygments_lexer": "ipython3",
   "version": "3.7.9"
  },
  "orig_nbformat": 4
 },
 "nbformat": 4,
 "nbformat_minor": 2
}
